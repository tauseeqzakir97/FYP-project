{
 "cells": [
  {
   "cell_type": "code",
   "execution_count": 22,
   "id": "4290d7ae",
   "metadata": {},
   "outputs": [],
   "source": [
    "import cv2\n",
    "import numpy as np\n",
    "import pandas as pd\n",
    "from PIL import Image \n",
    "import PIL\n",
    "import matplotlib.pyplot as plt\n",
    "import os\n",
    "import random\n",
    "import time\n",
    "from PIL import Image, ImageOps\n",
    "\n",
    "\n",
    "\n",
    "\n",
    "def extractData():\n",
    "    img = cv2.imread(\"legal.png\")\n",
    "\n",
    "    #Signature Crop\n",
    "    crop_img = img[715:818,552:771]\n",
    "    cv2.imwrite(\"s1.png\" , crop_img)\n",
    "\n",
    "    #PIN-Code Crop\n",
    "    crop_img = img[715:819,34:240]\n",
    "    cv2.imwrite(\"Pin.png\" , crop_img)\n",
    "    crop_img = img[715:819,34:82]\n",
    "    cv2.imwrite(\"d1.png\" , crop_img)\n",
    "    crop_img = img[715:819,87:134]\n",
    "    cv2.imwrite(\"d2.png\" , crop_img)\n",
    "    crop_img = img[715:819,140:187]\n",
    "    cv2.imwrite(\"d3.png\" , crop_img)\n",
    "    crop_img = img[715:819,193:240]\n",
    "    cv2.imwrite(\"d4.png\" , crop_img)\n",
    "    \n",
    "    \n",
    "def invert():\n",
    "    im = Image.open('d1.png').convert('RGB')\n",
    "    im_resize = im.resize( ( 28, 28 ) )\n",
    "    im_invert = ImageOps.invert(im_resize)\n",
    "    im_invert.save('1.png')\n",
    "    \n",
    "    im = Image.open('d2.png').convert('RGB')\n",
    "    im_resize = im.resize( ( 28, 28 ) )\n",
    "    im_invert = ImageOps.invert(im_resize)\n",
    "    im_invert.save('2.png')\n",
    "    \n",
    "    im = Image.open('d3.png').convert('RGB')\n",
    "    im_resize = im.resize( ( 28, 28 ) )\n",
    "    im_invert = ImageOps.invert(im_resize)\n",
    "    im_invert.save('3.png')\n",
    "    \n",
    "    im = Image.open('d4.png').convert('RGB')\n",
    "    im_resize = im.resize( ( 28, 28 ) )\n",
    "    im_invert = ImageOps.invert(im_resize)\n",
    "    im_invert.save('4.png')\n",
    "    \n",
    "    im = Image.open( \"real/001.png\" )\n",
    "    imB = im.resize( ( 310, 292 ) )\n",
    "    imB.save(\"sig.PNG\")\n",
    "    \n",
    "\n",
    "def removeImage():\n",
    "    os.remove(\"d1.png\")\n",
    "    os.remove(\"d2.png\")\n",
    "    os.remove(\"d3.png\")\n",
    "    os.remove(\"d4.png\")\n",
    "    os.remove(\"s1.png\")"
   ]
  },
  {
   "cell_type": "code",
   "execution_count": 21,
   "id": "bc4bbc6d",
   "metadata": {},
   "outputs": [],
   "source": [
    "if __name__ == '__main__':\n",
    "    extractData()\n",
    "    invert()\n",
    "    removeImage()"
   ]
  },
  {
   "cell_type": "code",
   "execution_count": 30,
   "id": "40585022",
   "metadata": {},
   "outputs": [],
   "source": [
    "\n",
    "for i in range(5):\n",
    "    im = Image.open( \"forged/00\"+ str(i+1) +\".png\" )\n",
    "    imB = im.resize( ( 310, 292 ) )\n",
    "    imB.save(\"real/000\"+ str(i+1) +\".png\")"
   ]
  }
 ],
 "metadata": {
  "kernelspec": {
   "display_name": "Python 3 (ipykernel)",
   "language": "python",
   "name": "python3"
  },
  "language_info": {
   "codemirror_mode": {
    "name": "ipython",
    "version": 3
   },
   "file_extension": ".py",
   "mimetype": "text/x-python",
   "name": "python",
   "nbconvert_exporter": "python",
   "pygments_lexer": "ipython3",
   "version": "3.9.12"
  }
 },
 "nbformat": 4,
 "nbformat_minor": 5
}
